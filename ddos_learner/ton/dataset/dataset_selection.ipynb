{
 "cells": [
  {
   "cell_type": "code",
   "execution_count": null,
   "metadata": {},
   "outputs": [],
   "source": [
    "import pandas as pd\n",
    "import numpy as np\n",
    "from glob import glob\n",
    "import os"
   ]
  },
  {
   "cell_type": "code",
   "execution_count": null,
   "metadata": {},
   "outputs": [],
   "source": [
    "\n",
    "file_lst = glob(\"raw/*.csv\")\n"
   ]
  },
  {
   "cell_type": "code",
   "execution_count": null,
   "metadata": {},
   "outputs": [],
   "source": [
    "class RES:\n",
    "    def __init__(self, features=[]):\n",
    "        self.ft_n = len(features)\n",
    "        self.features=features\n",
    "        self.RES = np.empty((1, self.ft_n))\n",
    "        self.RES_len=0\n",
    "        self.RES_cap=1\n",
    "\n",
    "    def add(self,x):\n",
    "        if isinstance(x, pd.DataFrame):\n",
    "            x = x.to_numpy()        \n",
    "        size = x.shape[0]\n",
    "        if (size + self.RES_len > self.RES_cap):\n",
    "            while (size + self.RES_len > self.RES_cap):\n",
    "                self.RES_cap *= 2\n",
    "            \n",
    "            newRes = np.empty((self.RES_cap, self.ft_n))\n",
    "            newRes[0:self.RES_len,:] = self.RES[0:self.RES_len,:]\n",
    "            self.RES = newRes\n",
    "        self.RES[self.RES_len:self.RES_len+size, :] = x\n",
    "        self.RES_len += size\n",
    "\n",
    "    def getDf(self):\n",
    "        return pd.DataFrame(self.RES[0:self.RES_len,:], columns=self.features)\n",
    "\n",
    "    def __len__(self):\n",
    "        return self.RES_len\n",
    "        \n",
    "    def __str__(self):\n",
    "        return self.RES.__str__()\n"
   ]
  },
  {
   "cell_type": "code",
   "execution_count": null,
   "metadata": {},
   "outputs": [],
   "source": [
    "\n",
    "n_normal = 0\n",
    "n_attack = 0\n",
    "req_ft=['duration','src_bytes','dst_bytes','missed_bytes','src_pkts','dst_pkts','label']\n",
    "print(len(req_ft))\n",
    "r = RES(req_ft)\n",
    "for f in file_lst:    \n",
    "    df = pd.read_csv(f, low_memory=False)  \n",
    "    df = df[df['type'].isin(['normal', 'dos', 'ddos'])]\n",
    "    df = df.loc[:, df.columns.isin(req_ft)]\n",
    "    size = df.shape[0]\n",
    "    \n",
    "    at_df = df[df['label'] == 1]\n",
    "    nr_df = df[df['label'] == 0]\n",
    "    n_nr = nr_df.shape[0]\n",
    "    n_normal += n_nr\n",
    "    n_attack += at_df.shape[0]    \n",
    "\n",
    "    print(len(r))    \n",
    "    \n",
    "    rng = np.random.default_rng()\n",
    "    index=np.sort(rng.choice([i for i in range(size)], size=int(size*0.1), replace=False, shuffle=False))\n",
    "    r.add(df.to_numpy()[index])\n",
    "    del df\n",
    "    \n"
   ]
  },
  {
   "cell_type": "code",
   "execution_count": null,
   "metadata": {},
   "outputs": [],
   "source": [
    "print (f\"NORMAL: {n_normal} ATTACK: {n_attack}\")"
   ]
  },
  {
   "cell_type": "code",
   "execution_count": null,
   "metadata": {},
   "outputs": [],
   "source": [
    "df = r.getDf()\n",
    "if not os.path.exists('processed'):\n",
    "        os.makedirs('processed')    \n",
    "    \n",
    "df.to_csv(\"processed/train_data.csv\", index=False)"
   ]
  },
  {
   "cell_type": "code",
   "execution_count": null,
   "metadata": {},
   "outputs": [],
   "source": [
    "df.tail(15)"
   ]
  },
  {
   "cell_type": "code",
   "execution_count": null,
   "metadata": {},
   "outputs": [],
   "source": []
  },
  {
   "cell_type": "code",
   "execution_count": null,
   "metadata": {},
   "outputs": [],
   "source": []
  }
 ],
 "metadata": {
  "kernelspec": {
   "display_name": "Python 3 (ipykernel)",
   "language": "python",
   "name": "python3"
  },
  "language_info": {
   "codemirror_mode": {
    "name": "ipython",
    "version": 3
   },
   "file_extension": ".py",
   "mimetype": "text/x-python",
   "name": "python",
   "nbconvert_exporter": "python",
   "pygments_lexer": "ipython3",
   "version": "3.11.3"
  },
  "vscode": {
   "interpreter": {
    "hash": "4e1d9a8909477db77738c33245c29c7265277ef753467dede8cf3f814cde494e"
   }
  }
 },
 "nbformat": 4,
 "nbformat_minor": 2
}
