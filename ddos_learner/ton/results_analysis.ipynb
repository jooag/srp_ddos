{
 "cells": [
  {
   "cell_type": "code",
   "execution_count": 1,
   "metadata": {},
   "outputs": [
    {
     "name": "stdout",
     "output_type": "stream",
     "text": [
      "srp_12_hdt_ton/1690505761.csv\n",
      "perc_ton/1690491322.csv\n",
      "arf_ton/1690489481.csv\n",
      "arf_ton/1689149543.csv\n",
      "arf_ton/1690138069.csv\n",
      "hdt_ton/1690487799.csv\n",
      "hdt_ton/1689147401.csv\n",
      "hdt_ton/1688726262.csv\n",
      "hdt_ton/1690135198.csv\n",
      "srp_2_hdt_ton/1690492467.csv\n",
      "srp_8_hdt_ton/1690498555.csv\n",
      "srp_10_hdt_ton/1690501845.csv\n",
      "srp_6_hdt_ton/1690495942.csv\n",
      "srp_1_hdt_ton/1690491730.csv\n",
      "hdt_adap_ton/1690490013.csv\n",
      "lin_reg/1690491369.csv\n",
      "srp_4_hdt_ton/1690493865.csv\n",
      "log_reg/1690490064.csv\n"
     ]
    }
   ],
   "source": [
    "import pandas as pd\n",
    "import numpy as np\n",
    "import os\n",
    "while not os.path.exists('ddos_learner'):\n",
    "    os.chdir('../..')\n",
    "from ddos_learner.common import regenerate_plots\n",
    "regenerate_plots()"
   ]
  },
  {
   "cell_type": "code",
   "execution_count": 9,
   "metadata": {},
   "outputs": [
    {
     "name": "stdout",
     "output_type": "stream",
     "text": [
      "/home/jowme/usp/ic/code/stats/hdt_ton/1690487799.csv: mean=0.9658751753935716 std=0.09927763065424583\n",
      "/home/jowme/usp/ic/code/stats/hdt_adap_ton/1690490013.csv: mean=0.8973357732126794 std=0.2563109109224957\n",
      "stats/srp_12_hdt_ton/1690505761.csv: mean=0.9238822542996638 std=0.23251190777609762\n"
     ]
    }
   ],
   "source": [
    "files=['/home/jowme/usp/ic/code/stats/hdt_ton/1690487799.csv', '/home/jowme/usp/ic/code/stats/hdt_adap_ton/1690490013.csv', 'stats/srp_12_hdt_ton/1690505761.csv']\n",
    "\n",
    "for f in files:\n",
    "    df = pd.read_csv(f)\n",
    "    print(f\"{f}: mean={df['f1'].mean()} std={df['f1'].std()}\")\n"
   ]
  },
  {
   "cell_type": "code",
   "execution_count": 5,
   "metadata": {},
   "outputs": [],
   "source": []
  },
  {
   "cell_type": "code",
   "execution_count": 7,
   "metadata": {},
   "outputs": [
    {
     "data": {
      "text/plain": [
       "0.9658751753935716"
      ]
     },
     "execution_count": 7,
     "metadata": {},
     "output_type": "execute_result"
    }
   ],
   "source": []
  },
  {
   "cell_type": "code",
   "execution_count": 2,
   "metadata": {},
   "outputs": [
    {
     "name": "stdout",
     "output_type": "stream",
     "text": [
      "srp_12_hdt_ton/1690505761.csv\n",
      "perc_ton/1690491322.csv\n",
      "arf_ton/1690489481.csv\n",
      "arf_ton/1689149543.csv\n",
      "arf_ton/1690138069.csv\n",
      "hdt_ton/1690487799.csv\n",
      "hdt_ton/1689147401.csv\n",
      "hdt_ton/1688726262.csv\n",
      "hdt_ton/1690135198.csv\n",
      "srp_2_hdt_ton/1690492467.csv\n",
      "srp_8_hdt_ton/1690498555.csv\n",
      "srp_10_hdt_ton/1690501845.csv\n",
      "srp_6_hdt_ton/1690495942.csv\n",
      "srp_1_hdt_ton/1690491730.csv\n",
      "hdt_adap_ton/1690490013.csv\n",
      "lin_reg/1690491369.csv\n",
      "srp_4_hdt_ton/1690493865.csv\n",
      "log_reg/1690490064.csv\n"
     ]
    }
   ],
   "source": []
  },
  {
   "cell_type": "code",
   "execution_count": null,
   "metadata": {},
   "outputs": [],
   "source": []
  }
 ],
 "metadata": {
  "kernelspec": {
   "display_name": "Python 3",
   "language": "python",
   "name": "python3"
  },
  "language_info": {
   "codemirror_mode": {
    "name": "ipython",
    "version": 3
   },
   "file_extension": ".py",
   "mimetype": "text/x-python",
   "name": "python",
   "nbconvert_exporter": "python",
   "pygments_lexer": "ipython3",
   "version": "3.11.3"
  },
  "orig_nbformat": 4
 },
 "nbformat": 4,
 "nbformat_minor": 2
}
