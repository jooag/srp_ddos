{
 "cells": [
  {
   "cell_type": "code",
   "execution_count": null,
   "metadata": {},
   "outputs": [],
   "source": [
    "\n",
    "import os\n",
    "while not os.path.exists('ddos_learner'):\n",
    "    os.chdir('../..')\n",
    "%matplotlib agg"
   ]
  },
  {
   "cell_type": "code",
   "execution_count": null,
   "metadata": {},
   "outputs": [],
   "source": [
    "import ddos_learner\n",
    "import ddos_learner.common\n",
    "import ddos_learner.ton.dataset"
   ]
  },
  {
   "cell_type": "code",
   "execution_count": null,
   "metadata": {},
   "outputs": [],
   "source": [
    "from river.tree import HoeffdingTreeClassifier, HoeffdingAdaptiveTreeClassifier, ExtremelyFastDecisionTreeClassifier\n",
    "from river.ensemble import SRPClassifier\n",
    "from river.forest import ARFClassifier\n",
    "from river.optim import Adam\n",
    "from river.linear_model import LogisticRegression, Perceptron, LinearRegression"
   ]
  },
  {
   "cell_type": "code",
   "execution_count": null,
   "metadata": {},
   "outputs": [],
   "source": [
    "\n",
    "train_ds = ddos_learner.ton.dataset.TONIoTDataset()\n"
   ]
  },
  {
   "cell_type": "code",
   "execution_count": null,
   "metadata": {},
   "outputs": [],
   "source": [
    "train_ds.reset()\n",
    "model = HoeffdingTreeClassifier()\n",
    "ddos_learner.common.train(model, train_ds, 1029538, step_size=10000, subpath='hdt_ton')\n"
   ]
  },
  {
   "cell_type": "code",
   "execution_count": null,
   "metadata": {},
   "outputs": [],
   "source": []
  },
  {
   "cell_type": "code",
   "execution_count": null,
   "metadata": {},
   "outputs": [],
   "source": [
    "train_ds.reset()\n",
    "model = ARFClassifier()\n",
    "ddos_learner.common.train(model, train_ds, 1029538, step_size=10000, subpath='arf_ton')"
   ]
  },
  {
   "cell_type": "code",
   "execution_count": null,
   "metadata": {},
   "outputs": [],
   "source": [
    "train_ds.reset()\n",
    "model = HoeffdingAdaptiveTreeClassifier()\n",
    "ddos_learner.common.train(model, train_ds, 1029538, step_size=10000, subpath='hdt_adap_ton')"
   ]
  },
  {
   "cell_type": "code",
   "execution_count": null,
   "metadata": {},
   "outputs": [],
   "source": [
    "train_ds.reset()\n",
    "model = SRPClassifier(HoeffdingTreeClassifier())\n",
    "ddos_learner.common.train(model, train_ds, 1029538, step_size=10000, subpath='srp_hdt_ton')"
   ]
  },
  {
   "cell_type": "code",
   "execution_count": null,
   "metadata": {},
   "outputs": [],
   "source": [
    "model=LogisticRegression(Adam(.1))\n",
    "train_ds.reset()\n",
    "ddos_learner.common.train(model, train_ds, 1029538, step_size=10000, subpath='log_reg')"
   ]
  },
  {
   "cell_type": "code",
   "execution_count": null,
   "metadata": {},
   "outputs": [],
   "source": [
    "train_ds.reset()\n",
    "model = Perceptron()\n",
    "ddos_learner.common.train(model, train_ds, 1029538, step_size=10000, subpath='perc_ton')"
   ]
  },
  {
   "cell_type": "code",
   "execution_count": null,
   "metadata": {},
   "outputs": [],
   "source": [
    "train_ds.reset()\n",
    "for i in [1, 2, 4, 6, 8, 10, 12]:\n",
    "    model = SRPClassifier(HoeffdingTreeClassifier(), i)\n",
    "    ddos_learner.common.train(model, train_ds, 1029538, step_size=10000, subpath=f'srp_{i}_hdt_ton')\n"
   ]
  },
  {
   "cell_type": "code",
   "execution_count": null,
   "metadata": {},
   "outputs": [],
   "source": [
    "train_ds.reset()\n",
    "for subspace_size in [0.1, 0.2, 0.3, 0.4, 0.5, 0.6, 0.7, 0.8, 0.9, 1.0]:\n",
    "    model = SRPClassifier(HoeffdingTreeClassifier(), subspace_size=subspace_size)\n",
    "    ddos_learner.common.train(model, train_ds, 1029538, step_size=10000, subpath=f'srp_10_{subspace_size:.2f}_hdt_ton')"
   ]
  }
 ],
 "metadata": {
  "kernelspec": {
   "display_name": "Python 3",
   "language": "python",
   "name": "python3"
  },
  "language_info": {
   "codemirror_mode": {
    "name": "ipython",
    "version": 3
   },
   "file_extension": ".py",
   "mimetype": "text/x-python",
   "name": "python",
   "nbconvert_exporter": "python",
   "pygments_lexer": "ipython3",
   "version": "3.10.9"
  },
  "orig_nbformat": 4,
  "vscode": {
   "interpreter": {
    "hash": "4e1d9a8909477db77738c33245c29c7265277ef753467dede8cf3f814cde494e"
   }
  }
 },
 "nbformat": 4,
 "nbformat_minor": 2
}
