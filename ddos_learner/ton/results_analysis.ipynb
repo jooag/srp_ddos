{
 "cells": [
  {
   "cell_type": "code",
   "execution_count": 1,
   "metadata": {},
   "outputs": [],
   "source": [
    "import pandas as pd\n",
    "import numpy as np\n",
    "import os\n",
    "while not os.path.exists('ddos_learner'):\n",
    "    os.chdir('./..')\n",
    "from ddos_learner.common import regenerate_plots\n",
    "\n"
   ]
  },
  {
   "cell_type": "code",
   "execution_count": 2,
   "metadata": {},
   "outputs": [
    {
     "name": "stdout",
     "output_type": "stream",
     "text": [
      "srp_12_hdt_ton/1691159174.csv\n",
      "perc_ton/1691149018.csv\n",
      "arf_ton/1691151387.csv\n",
      "hdt_ton/1691148893.csv\n",
      "srp_10_hdt_ton/1691155203.csv\n",
      "srp_1_hdt_ton/1691151788.csv\n",
      "hdt_adap_ton/1691149622.csv\n",
      "log_reg/1691148961.csv\n"
     ]
    }
   ],
   "source": [
    "regenerate_plots()"
   ]
  },
  {
   "cell_type": "code",
   "execution_count": 4,
   "metadata": {},
   "outputs": [
    {
     "name": "stdout",
     "output_type": "stream",
     "text": [
      "===f1===\n",
      "srp_1_htd_ton/1691151788.csv: mean=0.9069989325856714 std=0.24164718646203448\n",
      "perc_ton/1691149018.csv: mean=0.6578901409423025 std=0.33554611935911327\n",
      "srp_10_htd_ton/1691155203.csv: mean=0.9008592737344819 std=0.247366524278184\n",
      "arf_ton/1691151387.csv: mean=0.9085791474561756 std=0.24261872429175577\n",
      "hdt_ton/1696240761.csv: mean=0.9575071097253762 std=0.16903122485196756\n",
      "hdt_ton/1691148893.csv: mean=0.9586752734519145 std=0.1230071633622642\n",
      "srp_12_htd_ton/1691159174.csv: mean=0.9031693727456611 std=0.24761944925135637\n",
      "hdt_adap_ton/1691149622.csv: mean=0.8952590712629679 std=0.26297809146610607\n",
      "log_reg/1691148961.csv: mean=0.9167402497566024 std=0.16047203236351354\n",
      "\n",
      "===acc===\n",
      "srp_1_htd_ton/1691151788.csv: mean=0.9024016862557487 std=0.20070058686676862\n",
      "perc_ton/1691149018.csv: mean=0.5793465224980138 std=0.3444770834491737\n",
      "srp_10_htd_ton/1691155203.csv: mean=0.8950080548130209 std=0.211839680571619\n",
      "arf_ton/1691151387.csv: mean=0.9050206837695215 std=0.20348378487309696\n",
      "hdt_ton/1696240761.csv: mean=0.9676711885329601 std=0.1199679745317697\n",
      "hdt_ton/1691148893.csv: mean=0.9424068125974994 std=0.1400475366031709\n",
      "srp_12_htd_ton/1691159174.csv: mean=0.898986066884682 std=0.2119584050382984\n",
      "hdt_adap_ton/1691149622.csv: mean=0.8928686809403245 std=0.22816234200454694\n",
      "log_reg/1691148961.csv: mean=0.8813327129294736 std=0.19357139392059391\n",
      "\n",
      "===prec_attack===\n",
      "srp_1_htd_ton/1691151788.csv: mean=0.8936209164655964 std=0.25444275414185735\n",
      "perc_ton/1691149018.csv: mean=0.824905441116831 std=0.24503873345607788\n",
      "srp_10_htd_ton/1691155203.csv: mean=0.8917347169733321 std=0.25491298324739614\n",
      "arf_ton/1691151387.csv: mean=0.8939008617750067 std=0.25527226554480836\n",
      "hdt_ton/1696240761.csv: mean=0.9569491369861207 std=0.1717514544775624\n",
      "hdt_ton/1691148893.csv: mean=0.9515187129827307 std=0.14861677507699633\n",
      "srp_12_htd_ton/1691159174.csv: mean=0.8913757227539657 std=0.25493013769077066\n",
      "hdt_adap_ton/1691149622.csv: mean=0.8951259751383073 std=0.25435550216974934\n",
      "log_reg/1691148961.csv: mean=0.9312889094216324 std=0.1638797246208866\n",
      "\n",
      "===recl_attack===\n",
      "srp_1_htd_ton/1691151788.csv: mean=0.9320473563273536 std=0.23390011655805873\n",
      "perc_ton/1691149018.csv: mean=0.6197296865967242 std=0.355137717683115\n",
      "srp_10_htd_ton/1691155203.csv: mean=0.926226205235519 std=0.2445553282778932\n",
      "arf_ton/1691151387.csv: mean=0.9352880820711618 std=0.2343845954399331\n",
      "hdt_ton/1696240761.csv: mean=0.9633753032473071 std=0.16571912395374705\n",
      "hdt_ton/1691148893.csv: mean=0.9757024282803688 std=0.10095976527696573\n",
      "srp_12_htd_ton/1691159174.csv: mean=0.9304248594555133 std=0.24381100464072758\n",
      "hdt_adap_ton/1691149622.csv: mean=0.9200997869139944 std=0.26073059977668167\n",
      "log_reg/1691148961.csv: mean=0.9262402781236354 std=0.16999730905934168\n",
      "\n",
      "===prec_normal===\n",
      "srp_1_htd_ton/1691151788.csv: mean=0.3167035014375461 std=0.362377345964672\n",
      "perc_ton/1691149018.csv: mean=0.07554228469517459 std=0.16227843979579368\n",
      "srp_10_htd_ton/1691155203.csv: mean=0.33727683092562905 std=0.4244317980262925\n",
      "arf_ton/1691151387.csv: mean=0.3671843124723611 std=0.43391349445057914\n",
      "hdt_ton/1696240761.csv: mean=0.5658345595430642 std=0.399681850667525\n",
      "hdt_ton/1691148893.csv: mean=0.504917110795602 std=0.3974980859161395\n",
      "srp_12_htd_ton/1691159174.csv: mean=0.39528247509940084 std=0.4321707166926716\n",
      "hdt_adap_ton/1691149622.csv: mean=0.4115480875584785 std=0.39984457058108547\n",
      "log_reg/1691148961.csv: mean=0.2826875191884978 std=0.34386525578911126\n",
      "\n",
      "===recl_normal===\n",
      "srp_1_htd_ton/1691151788.csv: mean=0.3301289549644213 std=0.3889889196880165\n",
      "perc_ton/1691149018.csv: mean=0.1278814380422098 std=0.24697020731611907\n",
      "srp_10_htd_ton/1691155203.csv: mean=0.30782431450579817 std=0.37433997954565756\n",
      "arf_ton/1691151387.csv: mean=0.33108158654048303 std=0.40048378730326784\n",
      "hdt_ton/1696240761.csv: mean=0.6517427511206194 std=0.37693164372669835\n",
      "hdt_ton/1691148893.csv: mean=0.6225049981804456 std=0.3910912775849565\n",
      "srp_12_htd_ton/1691159174.csv: mean=0.30390029412701336 std=0.37851801434631105\n",
      "hdt_adap_ton/1691149622.csv: mean=0.32674671467522043 std=0.36741163629684026\n",
      "log_reg/1691148961.csv: mean=0.3170470380020797 std=0.3643697548840617\n",
      "\n",
      "===time===\n",
      "srp_1_htd_ton/1691151788.csv: 277.36886382102966\n",
      "perc_ton/1691149018.csv: 14.922399044036863\n",
      "srp_10_htd_ton/1691155203.csv: 2719.989151954651\n",
      "arf_ton/1691151387.csv: 1069.798380613327\n",
      "hdt_ton/1696240761.csv: 179.33859848976135\n",
      "hdt_ton/1691148893.csv: 59.05417275428772\n",
      "srp_12_htd_ton/1691159174.csv: 3162.697833299637\n",
      "hdt_adap_ton/1691149622.csv: 129.16029834747314\n",
      "log_reg/1691148961.csv: 25.369758129119877\n",
      "\n"
     ]
    },
    {
     "ename": "",
     "evalue": "",
     "output_type": "error",
     "traceback": [
      "\u001b[1;31mThe Kernel crashed while executing code in the the current cell or a previous cell. Please review the code in the cell(s) to identify a possible cause of the failure. Click <a href='https://aka.ms/vscodeJupyterKernelCrash'>here</a> for more info. View Jupyter <a href='command:jupyter.viewOutput'>log</a> for further details."
     ]
    }
   ],
   "source": [
    "for stat in ['f1', 'acc', 'prec_attack', 'recl_attack', 'prec_normal', 'recl_normal']:\n",
    "    print(f\"==={stat}===\")\n",
    "    for subpath in os.listdir('stats'):\n",
    "            for timestamp in os.listdir(f'stats/{subpath}'):                        \n",
    "                df = pd.read_csv(f'stats/{subpath}/{timestamp}')\n",
    "                print(f\"{subpath}/{timestamp}: mean={df[stat].mean()} std={df[stat].std()}\")\n",
    "    print()\n",
    "print(f\"===time===\")\n",
    "for subpath in os.listdir('stats'):\n",
    "        for timestamp in os.listdir(f'stats/{subpath}'):                        \n",
    "            df = pd.read_csv(f'stats/{subpath}/{timestamp}')\n",
    "            print(f\"{subpath}/{timestamp}: {df['timest'][len(df)-1]}\")\n",
    "print()\n"
   ]
  },
  {
   "cell_type": "code",
   "execution_count": null,
   "metadata": {},
   "outputs": [],
   "source": [
    "regenerate_plots()"
   ]
  },
  {
   "cell_type": "code",
   "execution_count": null,
   "metadata": {},
   "outputs": [],
   "source": []
  }
 ],
 "metadata": {
  "kernelspec": {
   "display_name": "Python 3",
   "language": "python",
   "name": "python3"
  },
  "language_info": {
   "codemirror_mode": {
    "name": "ipython",
    "version": 3
   },
   "file_extension": ".py",
   "mimetype": "text/x-python",
   "name": "python",
   "nbconvert_exporter": "python",
   "pygments_lexer": "ipython3",
   "version": "3.10.9"
  },
  "orig_nbformat": 4
 },
 "nbformat": 4,
 "nbformat_minor": 2
}
