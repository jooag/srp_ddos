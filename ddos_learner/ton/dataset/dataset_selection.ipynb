{
 "cells": [
  {
   "cell_type": "code",
   "execution_count": 1,
   "metadata": {},
   "outputs": [],
   "source": [
    "import pandas as pd\n",
    "import numpy as np\n",
    "from glob import glob\n"
   ]
  },
  {
   "cell_type": "code",
   "execution_count": 2,
   "metadata": {},
   "outputs": [],
   "source": [
    "\n",
    "file_lst = glob(\"raw/*.csv\")\n"
   ]
  },
  {
   "cell_type": "code",
   "execution_count": 3,
   "metadata": {},
   "outputs": [],
   "source": [
    "class RES:\n",
    "    def __init__(self, features=[]):\n",
    "        self.ft_n = len(features)\n",
    "        self.features=features\n",
    "        self.RES = np.empty((1, self.ft_n))\n",
    "        self.RES_len=0\n",
    "        self.RES_cap=1\n",
    "\n",
    "    def add(self,x):\n",
    "        if isinstance(x, pd.DataFrame):\n",
    "            x = x.to_numpy()        \n",
    "        size = x.shape[0]\n",
    "        if (size + self.RES_len > self.RES_cap):\n",
    "            while (size + self.RES_len > self.RES_cap):\n",
    "                self.RES_cap *= 2\n",
    "            \n",
    "            newRes = np.empty((self.RES_cap, self.ft_n))\n",
    "            newRes[0:self.RES_len,:] = self.RES[0:self.RES_len,:]\n",
    "            self.RES = newRes\n",
    "        self.RES[self.RES_len:self.RES_len+size, :] = x\n",
    "        self.RES_len += size\n",
    "\n",
    "    def getDf(self):\n",
    "        return pd.DataFrame(self.RES[0:self.RES_len,:], columns=self.features)\n",
    "\n",
    "    def __len__(self):\n",
    "        return self.RES_len\n",
    "        \n",
    "    def __str__(self):\n",
    "        return self.RES.__str__()\n"
   ]
  },
  {
   "cell_type": "code",
   "execution_count": 4,
   "metadata": {},
   "outputs": [
    {
     "name": "stdout",
     "output_type": "stream",
     "text": [
      "7\n",
      "0\n",
      "100000\n",
      "200000\n",
      "300000\n",
      "301440\n",
      "388920\n",
      "488920\n",
      "491028\n",
      "591028\n",
      "691028\n",
      "758281\n",
      "858281\n",
      "958281\n",
      "1058281\n",
      "1158281\n",
      "1258281\n",
      "1358281\n",
      "1381779\n",
      "1443066\n",
      "1543066\n",
      "1643066\n",
      "1643558\n"
     ]
    }
   ],
   "source": [
    "\n",
    "n_normal = 0\n",
    "n_attack = 0\n",
    "req_ft=['duration','src_bytes','dst_bytes','missed_bytes','src_pkts','dst_pkts','label']\n",
    "print(len(req_ft))\n",
    "r = RES(req_ft)\n",
    "for f in file_lst:    \n",
    "    df = pd.read_csv(f, low_memory=False)  \n",
    "    df = df[df['type'].isin(['normal', 'dos', 'ddos', 'scanning'])]\n",
    "    df = df.loc[:, df.columns.isin(req_ft)]\n",
    "    size = df.shape[0]\n",
    "    \n",
    "    at_df = df[df['label'] == 1]\n",
    "    nr_df = df[df['label'] == 0]\n",
    "    n_nr = nr_df.shape[0]\n",
    "    n_normal += n_nr\n",
    "    n_attack += at_df.shape[0]    \n",
    "    print(len(r))    \n",
    "    \n",
    "    rng = np.random.default_rng()\n",
    "    r.add(rng.choice(df.to_numpy(), size=max(0,int(size*0.1)), replace=False))\n",
    "    del df\n",
    "    \n"
   ]
  },
  {
   "cell_type": "code",
   "execution_count": 5,
   "metadata": {},
   "outputs": [
    {
     "name": "stdout",
     "output_type": "stream",
     "text": [
      "NORMAL: 755124 ATTACK: 16680497\n"
     ]
    }
   ],
   "source": [
    "print (f\"NORMAL: {n_normal} ATTACK: {n_attack}\")"
   ]
  },
  {
   "cell_type": "code",
   "execution_count": 6,
   "metadata": {},
   "outputs": [],
   "source": [
    "df = r.getDf()\n",
    "df.to_csv(\"processed/imbalanced_dataset.csv\", index=False)"
   ]
  },
  {
   "cell_type": "code",
   "execution_count": 7,
   "metadata": {},
   "outputs": [
    {
     "name": "stdout",
     "output_type": "stream",
     "text": [
      "0\n",
      "N: 1743558, TS:1307668\n"
     ]
    }
   ],
   "source": [
    "\n",
    "\n",
    "df = pd.read_csv(\"processed/imbalanced_dataset.csv\")\n",
    "print(df[df.isnull().any(axis=1)].shape[0])\n",
    "N=df.shape[0]\n",
    "train_size=int((N*3)/4)\n",
    "print(f\"N: {N}, TS:{train_size}\")\n",
    "test_df = df.loc[train_size:N]\n",
    "df = df.loc[0:train_size]"
   ]
  },
  {
   "cell_type": "code",
   "execution_count": 8,
   "metadata": {},
   "outputs": [],
   "source": [
    "test_df.to_csv('processed/test_data.csv', index=False)"
   ]
  },
  {
   "cell_type": "code",
   "execution_count": 13,
   "metadata": {},
   "outputs": [],
   "source": [
    "# from imblearn.over_sampling import ADASYN\n",
    "# Y = df['label'].to_numpy().astype(np.uint8)\n",
    "# X = df.drop('label', axis=1).to_numpy()\n",
    "# df[df['label'].isnull()].head()\n",
    "# print(Y[0:100])\n",
    "\n"
   ]
  },
  {
   "cell_type": "code",
   "execution_count": 14,
   "metadata": {},
   "outputs": [],
   "source": [
    "# from imblearn.over_sampling import ADASYN\n",
    "# X_r, Y_r = ADASYN().fit_resample(X, Y)\n",
    "# res=np.empty((X_r.shape[0], df.shape[1]))\n",
    "# res[:, 0:-1] = X_r\n",
    "# res[:, -1] = Y_r\n",
    "# pd.DataFrame(res, columns = df.columns).to_csv(\"processed/balanced_dataset.csv\", index=False)"
   ]
  },
  {
   "cell_type": "code",
   "execution_count": 15,
   "metadata": {},
   "outputs": [],
   "source": [
    "# np.bincount(Y_r)"
   ]
  },
  {
   "cell_type": "code",
   "execution_count": 16,
   "metadata": {},
   "outputs": [],
   "source": [
    "# np.random.shuffle(res)\n"
   ]
  },
  {
   "cell_type": "code",
   "execution_count": 9,
   "metadata": {},
   "outputs": [],
   "source": [
    "df.to_csv(\"processed/train_data.csv\", index=False)"
   ]
  },
  {
   "cell_type": "code",
   "execution_count": 10,
   "metadata": {},
   "outputs": [
    {
     "data": {
      "text/html": [
       "<div>\n",
       "<style scoped>\n",
       "    .dataframe tbody tr th:only-of-type {\n",
       "        vertical-align: middle;\n",
       "    }\n",
       "\n",
       "    .dataframe tbody tr th {\n",
       "        vertical-align: top;\n",
       "    }\n",
       "\n",
       "    .dataframe thead th {\n",
       "        text-align: right;\n",
       "    }\n",
       "</style>\n",
       "<table border=\"1\" class=\"dataframe\">\n",
       "  <thead>\n",
       "    <tr style=\"text-align: right;\">\n",
       "      <th></th>\n",
       "      <th>duration</th>\n",
       "      <th>src_bytes</th>\n",
       "      <th>dst_bytes</th>\n",
       "      <th>missed_bytes</th>\n",
       "      <th>src_pkts</th>\n",
       "      <th>dst_pkts</th>\n",
       "      <th>label</th>\n",
       "    </tr>\n",
       "  </thead>\n",
       "  <tbody>\n",
       "    <tr>\n",
       "      <th>1307654</th>\n",
       "      <td>63.243876</td>\n",
       "      <td>0.0</td>\n",
       "      <td>0.0</td>\n",
       "      <td>0.0</td>\n",
       "      <td>3.0</td>\n",
       "      <td>2.0</td>\n",
       "      <td>1.0</td>\n",
       "    </tr>\n",
       "    <tr>\n",
       "      <th>1307655</th>\n",
       "      <td>61.560365</td>\n",
       "      <td>438.0</td>\n",
       "      <td>1791.0</td>\n",
       "      <td>0.0</td>\n",
       "      <td>7.0</td>\n",
       "      <td>15.0</td>\n",
       "      <td>1.0</td>\n",
       "    </tr>\n",
       "    <tr>\n",
       "      <th>1307656</th>\n",
       "      <td>0.000632</td>\n",
       "      <td>0.0</td>\n",
       "      <td>0.0</td>\n",
       "      <td>0.0</td>\n",
       "      <td>2.0</td>\n",
       "      <td>1.0</td>\n",
       "      <td>1.0</td>\n",
       "    </tr>\n",
       "    <tr>\n",
       "      <th>1307657</th>\n",
       "      <td>0.000005</td>\n",
       "      <td>0.0</td>\n",
       "      <td>0.0</td>\n",
       "      <td>0.0</td>\n",
       "      <td>2.0</td>\n",
       "      <td>1.0</td>\n",
       "      <td>1.0</td>\n",
       "    </tr>\n",
       "    <tr>\n",
       "      <th>1307658</th>\n",
       "      <td>0.000476</td>\n",
       "      <td>0.0</td>\n",
       "      <td>0.0</td>\n",
       "      <td>0.0</td>\n",
       "      <td>2.0</td>\n",
       "      <td>1.0</td>\n",
       "      <td>1.0</td>\n",
       "    </tr>\n",
       "    <tr>\n",
       "      <th>1307659</th>\n",
       "      <td>0.024844</td>\n",
       "      <td>121.0</td>\n",
       "      <td>171.0</td>\n",
       "      <td>0.0</td>\n",
       "      <td>6.0</td>\n",
       "      <td>4.0</td>\n",
       "      <td>1.0</td>\n",
       "    </tr>\n",
       "    <tr>\n",
       "      <th>1307660</th>\n",
       "      <td>0.000004</td>\n",
       "      <td>0.0</td>\n",
       "      <td>0.0</td>\n",
       "      <td>0.0</td>\n",
       "      <td>2.0</td>\n",
       "      <td>1.0</td>\n",
       "      <td>1.0</td>\n",
       "    </tr>\n",
       "    <tr>\n",
       "      <th>1307661</th>\n",
       "      <td>0.004301</td>\n",
       "      <td>39.0</td>\n",
       "      <td>39.0</td>\n",
       "      <td>0.0</td>\n",
       "      <td>1.0</td>\n",
       "      <td>1.0</td>\n",
       "      <td>1.0</td>\n",
       "    </tr>\n",
       "    <tr>\n",
       "      <th>1307662</th>\n",
       "      <td>0.003039</td>\n",
       "      <td>43.0</td>\n",
       "      <td>43.0</td>\n",
       "      <td>0.0</td>\n",
       "      <td>1.0</td>\n",
       "      <td>1.0</td>\n",
       "      <td>1.0</td>\n",
       "    </tr>\n",
       "    <tr>\n",
       "      <th>1307663</th>\n",
       "      <td>60.795875</td>\n",
       "      <td>0.0</td>\n",
       "      <td>0.0</td>\n",
       "      <td>0.0</td>\n",
       "      <td>3.0</td>\n",
       "      <td>2.0</td>\n",
       "      <td>1.0</td>\n",
       "    </tr>\n",
       "    <tr>\n",
       "      <th>1307664</th>\n",
       "      <td>40.267768</td>\n",
       "      <td>0.0</td>\n",
       "      <td>0.0</td>\n",
       "      <td>0.0</td>\n",
       "      <td>3.0</td>\n",
       "      <td>2.0</td>\n",
       "      <td>1.0</td>\n",
       "    </tr>\n",
       "    <tr>\n",
       "      <th>1307665</th>\n",
       "      <td>0.000646</td>\n",
       "      <td>0.0</td>\n",
       "      <td>0.0</td>\n",
       "      <td>0.0</td>\n",
       "      <td>2.0</td>\n",
       "      <td>1.0</td>\n",
       "      <td>1.0</td>\n",
       "    </tr>\n",
       "    <tr>\n",
       "      <th>1307666</th>\n",
       "      <td>0.000320</td>\n",
       "      <td>0.0</td>\n",
       "      <td>0.0</td>\n",
       "      <td>0.0</td>\n",
       "      <td>2.0</td>\n",
       "      <td>1.0</td>\n",
       "      <td>1.0</td>\n",
       "    </tr>\n",
       "    <tr>\n",
       "      <th>1307667</th>\n",
       "      <td>60.794740</td>\n",
       "      <td>0.0</td>\n",
       "      <td>0.0</td>\n",
       "      <td>0.0</td>\n",
       "      <td>3.0</td>\n",
       "      <td>2.0</td>\n",
       "      <td>1.0</td>\n",
       "    </tr>\n",
       "    <tr>\n",
       "      <th>1307668</th>\n",
       "      <td>0.000679</td>\n",
       "      <td>0.0</td>\n",
       "      <td>0.0</td>\n",
       "      <td>0.0</td>\n",
       "      <td>1.0</td>\n",
       "      <td>1.0</td>\n",
       "      <td>1.0</td>\n",
       "    </tr>\n",
       "  </tbody>\n",
       "</table>\n",
       "</div>"
      ],
      "text/plain": [
       "          duration  src_bytes  dst_bytes  missed_bytes  src_pkts  dst_pkts  \\\n",
       "1307654  63.243876        0.0        0.0           0.0       3.0       2.0   \n",
       "1307655  61.560365      438.0     1791.0           0.0       7.0      15.0   \n",
       "1307656   0.000632        0.0        0.0           0.0       2.0       1.0   \n",
       "1307657   0.000005        0.0        0.0           0.0       2.0       1.0   \n",
       "1307658   0.000476        0.0        0.0           0.0       2.0       1.0   \n",
       "1307659   0.024844      121.0      171.0           0.0       6.0       4.0   \n",
       "1307660   0.000004        0.0        0.0           0.0       2.0       1.0   \n",
       "1307661   0.004301       39.0       39.0           0.0       1.0       1.0   \n",
       "1307662   0.003039       43.0       43.0           0.0       1.0       1.0   \n",
       "1307663  60.795875        0.0        0.0           0.0       3.0       2.0   \n",
       "1307664  40.267768        0.0        0.0           0.0       3.0       2.0   \n",
       "1307665   0.000646        0.0        0.0           0.0       2.0       1.0   \n",
       "1307666   0.000320        0.0        0.0           0.0       2.0       1.0   \n",
       "1307667  60.794740        0.0        0.0           0.0       3.0       2.0   \n",
       "1307668   0.000679        0.0        0.0           0.0       1.0       1.0   \n",
       "\n",
       "         label  \n",
       "1307654    1.0  \n",
       "1307655    1.0  \n",
       "1307656    1.0  \n",
       "1307657    1.0  \n",
       "1307658    1.0  \n",
       "1307659    1.0  \n",
       "1307660    1.0  \n",
       "1307661    1.0  \n",
       "1307662    1.0  \n",
       "1307663    1.0  \n",
       "1307664    1.0  \n",
       "1307665    1.0  \n",
       "1307666    1.0  \n",
       "1307667    1.0  \n",
       "1307668    1.0  "
      ]
     },
     "execution_count": 10,
     "metadata": {},
     "output_type": "execute_result"
    }
   ],
   "source": [
    "df.tail(15)"
   ]
  },
  {
   "cell_type": "code",
   "execution_count": null,
   "metadata": {},
   "outputs": [],
   "source": []
  },
  {
   "cell_type": "code",
   "execution_count": null,
   "metadata": {},
   "outputs": [],
   "source": []
  }
 ],
 "metadata": {
  "kernelspec": {
   "display_name": "Python 3 (ipykernel)",
   "language": "python",
   "name": "python3"
  },
  "language_info": {
   "codemirror_mode": {
    "name": "ipython",
    "version": 3
   },
   "file_extension": ".py",
   "mimetype": "text/x-python",
   "name": "python",
   "nbconvert_exporter": "python",
   "pygments_lexer": "ipython3",
   "version": "3.11.3"
  },
  "vscode": {
   "interpreter": {
    "hash": "4e1d9a8909477db77738c33245c29c7265277ef753467dede8cf3f814cde494e"
   }
  }
 },
 "nbformat": 4,
 "nbformat_minor": 2
}
