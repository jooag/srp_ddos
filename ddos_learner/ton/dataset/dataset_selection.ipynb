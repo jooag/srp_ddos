{
 "cells": [
  {
   "cell_type": "code",
   "execution_count": 15,
   "metadata": {},
   "outputs": [],
   "source": [
    "import pandas as pd\n",
    "import numpy as np\n",
    "from glob import glob\n"
   ]
  },
  {
   "cell_type": "code",
   "execution_count": 16,
   "metadata": {},
   "outputs": [],
   "source": [
    "\n",
    "file_lst = glob(\"raw/*.csv\")\n"
   ]
  },
  {
   "cell_type": "code",
   "execution_count": 17,
   "metadata": {},
   "outputs": [],
   "source": [
    "class RES:\n",
    "    def __init__(self, features=[]):\n",
    "        self.ft_n = len(features)\n",
    "        self.features=features\n",
    "        self.RES = np.empty((1, self.ft_n))\n",
    "        self.RES_len=0\n",
    "        self.RES_cap=1\n",
    "\n",
    "    def add(self,x):\n",
    "        if isinstance(x, pd.DataFrame):\n",
    "            x = x.to_numpy()        \n",
    "        size = x.shape[0]\n",
    "        if (size + self.RES_len > self.RES_cap):\n",
    "            while (size + self.RES_len > self.RES_cap):\n",
    "                self.RES_cap *= 2\n",
    "            \n",
    "            newRes = np.empty((self.RES_cap, self.ft_n))\n",
    "            newRes[0:self.RES_len,:] = self.RES[0:self.RES_len,:]\n",
    "            self.RES = newRes\n",
    "        self.RES[self.RES_len:self.RES_len+size, :] = x\n",
    "        self.RES_len += size\n",
    "\n",
    "    def getDf(self):\n",
    "        return pd.DataFrame(self.RES[0:self.RES_len,:], columns=self.features)\n",
    "\n",
    "    def __len__(self):\n",
    "        return self.RES_len\n",
    "        \n",
    "    def __str__(self):\n",
    "        return self.RES.__str__()\n"
   ]
  },
  {
   "cell_type": "code",
   "execution_count": 22,
   "metadata": {},
   "outputs": [
    {
     "name": "stdout",
     "output_type": "stream",
     "text": [
      "7\n",
      "0\n",
      "100000\n",
      "200000\n",
      "300000\n",
      "301440\n",
      "388920\n",
      "488920\n",
      "491028\n",
      "491393\n",
      "512260\n",
      "579513\n",
      "679513\n",
      "740686\n",
      "741257\n",
      "741539\n",
      "742288\n",
      "842288\n",
      "865786\n",
      "927073\n",
      "1027073\n",
      "1027698\n",
      "1028190\n"
     ]
    }
   ],
   "source": [
    "\n",
    "n_normal = 0\n",
    "n_attack = 0\n",
    "req_ft=['duration','src_bytes','dst_bytes','missed_bytes','src_pkts','dst_pkts','label']\n",
    "print(len(req_ft))\n",
    "r = RES(req_ft)\n",
    "for f in file_lst:    \n",
    "    df = pd.read_csv(f, low_memory=False)  \n",
    "    df = df[df['type'].isin(['normal', 'dos', 'ddos'])]\n",
    "    df = df.loc[:, df.columns.isin(req_ft)]\n",
    "    size = df.shape[0]\n",
    "    \n",
    "    at_df = df[df['label'] == 1]\n",
    "    nr_df = df[df['label'] == 0]\n",
    "    n_nr = nr_df.shape[0]\n",
    "    n_normal += n_nr\n",
    "    n_attack += at_df.shape[0]    \n",
    "\n",
    "    print(len(r))    \n",
    "    \n",
    "    rng = np.random.default_rng()\n",
    "    index=np.sort(rng.choice([i for i in range(size)], size=int(size*0.1), replace=False, shuffle=False))\n",
    "    r.add(df.to_numpy()[index])\n",
    "    del df\n",
    "    \n"
   ]
  },
  {
   "cell_type": "code",
   "execution_count": 23,
   "metadata": {},
   "outputs": [
    {
     "name": "stdout",
     "output_type": "stream",
     "text": [
      "NORMAL: 755124 ATTACK: 9540336\n"
     ]
    }
   ],
   "source": [
    "print (f\"NORMAL: {n_normal} ATTACK: {n_attack}\")"
   ]
  },
  {
   "cell_type": "code",
   "execution_count": 24,
   "metadata": {},
   "outputs": [],
   "source": [
    "df = r.getDf()\n",
    "df.to_csv(\"processed/imbalanced_dataset.csv\", index=False)"
   ]
  },
  {
   "cell_type": "code",
   "execution_count": 25,
   "metadata": {},
   "outputs": [
    {
     "name": "stdout",
     "output_type": "stream",
     "text": [
      "0\n",
      "N: 1029537, TS:1029537\n"
     ]
    }
   ],
   "source": [
    "\n",
    "\n",
    "df = pd.read_csv(\"processed/imbalanced_dataset.csv\")\n",
    "print(df[df.isnull().any(axis=1)].shape[0])\n",
    "N=df.shape[0]\n",
    "train_size=N\n",
    "print(f\"N: {N}, TS:{train_size}\")\n",
    "test_df = df.loc[train_size:N]\n",
    "df = df.loc[0:train_size]"
   ]
  },
  {
   "cell_type": "code",
   "execution_count": 26,
   "metadata": {},
   "outputs": [],
   "source": [
    "test_df.to_csv('processed/test_data.csv', index=False)"
   ]
  },
  {
   "cell_type": "code",
   "execution_count": 27,
   "metadata": {},
   "outputs": [],
   "source": [
    "# from imblearn.over_sampling import ADASYN\n",
    "# Y = df['label'].to_numpy().astype(np.uint8)\n",
    "# X = df.drop('label', axis=1).to_numpy()\n",
    "# df[df['label'].isnull()].head()\n",
    "# print(Y[0:100])\n",
    "\n"
   ]
  },
  {
   "cell_type": "code",
   "execution_count": 28,
   "metadata": {},
   "outputs": [],
   "source": [
    "# from imblearn.over_sampling import ADASYN\n",
    "# X_r, Y_r = ADASYN().fit_resample(X, Y)\n",
    "# res=np.empty((X_r.shape[0], df.shape[1]))\n",
    "# res[:, 0:-1] = X_r\n",
    "# res[:, -1] = Y_r\n",
    "# pd.DataFrame(res, columns = df.columns).to_csv(\"processed/balanced_dataset.csv\", index=False)"
   ]
  },
  {
   "cell_type": "code",
   "execution_count": 29,
   "metadata": {},
   "outputs": [],
   "source": [
    "# np.bincount(Y_r)"
   ]
  },
  {
   "cell_type": "code",
   "execution_count": 30,
   "metadata": {},
   "outputs": [],
   "source": [
    "# np.random.shuffle(res)\n"
   ]
  },
  {
   "cell_type": "code",
   "execution_count": 31,
   "metadata": {},
   "outputs": [],
   "source": [
    "df.to_csv(\"processed/train_data.csv\", index=False)"
   ]
  },
  {
   "cell_type": "code",
   "execution_count": 32,
   "metadata": {},
   "outputs": [
    {
     "data": {
      "text/html": [
       "<div>\n",
       "<style scoped>\n",
       "    .dataframe tbody tr th:only-of-type {\n",
       "        vertical-align: middle;\n",
       "    }\n",
       "\n",
       "    .dataframe tbody tr th {\n",
       "        vertical-align: top;\n",
       "    }\n",
       "\n",
       "    .dataframe thead th {\n",
       "        text-align: right;\n",
       "    }\n",
       "</style>\n",
       "<table border=\"1\" class=\"dataframe\">\n",
       "  <thead>\n",
       "    <tr style=\"text-align: right;\">\n",
       "      <th></th>\n",
       "      <th>duration</th>\n",
       "      <th>src_bytes</th>\n",
       "      <th>dst_bytes</th>\n",
       "      <th>missed_bytes</th>\n",
       "      <th>src_pkts</th>\n",
       "      <th>dst_pkts</th>\n",
       "      <th>label</th>\n",
       "    </tr>\n",
       "  </thead>\n",
       "  <tbody>\n",
       "    <tr>\n",
       "      <th>1029522</th>\n",
       "      <td>0.000308</td>\n",
       "      <td>41.0</td>\n",
       "      <td>89.0</td>\n",
       "      <td>0.0</td>\n",
       "      <td>1.0</td>\n",
       "      <td>1.0</td>\n",
       "      <td>0.0</td>\n",
       "    </tr>\n",
       "    <tr>\n",
       "      <th>1029523</th>\n",
       "      <td>0.000663</td>\n",
       "      <td>0.0</td>\n",
       "      <td>178.0</td>\n",
       "      <td>0.0</td>\n",
       "      <td>0.0</td>\n",
       "      <td>2.0</td>\n",
       "      <td>0.0</td>\n",
       "    </tr>\n",
       "    <tr>\n",
       "      <th>1029524</th>\n",
       "      <td>0.000419</td>\n",
       "      <td>41.0</td>\n",
       "      <td>89.0</td>\n",
       "      <td>0.0</td>\n",
       "      <td>1.0</td>\n",
       "      <td>1.0</td>\n",
       "      <td>0.0</td>\n",
       "    </tr>\n",
       "    <tr>\n",
       "      <th>1029525</th>\n",
       "      <td>0.000522</td>\n",
       "      <td>0.0</td>\n",
       "      <td>212.0</td>\n",
       "      <td>0.0</td>\n",
       "      <td>0.0</td>\n",
       "      <td>2.0</td>\n",
       "      <td>0.0</td>\n",
       "    </tr>\n",
       "    <tr>\n",
       "      <th>1029526</th>\n",
       "      <td>0.000402</td>\n",
       "      <td>31.0</td>\n",
       "      <td>106.0</td>\n",
       "      <td>0.0</td>\n",
       "      <td>1.0</td>\n",
       "      <td>1.0</td>\n",
       "      <td>0.0</td>\n",
       "    </tr>\n",
       "    <tr>\n",
       "      <th>1029527</th>\n",
       "      <td>0.000000</td>\n",
       "      <td>0.0</td>\n",
       "      <td>0.0</td>\n",
       "      <td>0.0</td>\n",
       "      <td>1.0</td>\n",
       "      <td>0.0</td>\n",
       "      <td>0.0</td>\n",
       "    </tr>\n",
       "    <tr>\n",
       "      <th>1029528</th>\n",
       "      <td>0.000000</td>\n",
       "      <td>0.0</td>\n",
       "      <td>0.0</td>\n",
       "      <td>0.0</td>\n",
       "      <td>1.0</td>\n",
       "      <td>0.0</td>\n",
       "      <td>0.0</td>\n",
       "    </tr>\n",
       "    <tr>\n",
       "      <th>1029529</th>\n",
       "      <td>0.000455</td>\n",
       "      <td>0.0</td>\n",
       "      <td>178.0</td>\n",
       "      <td>0.0</td>\n",
       "      <td>0.0</td>\n",
       "      <td>2.0</td>\n",
       "      <td>0.0</td>\n",
       "    </tr>\n",
       "    <tr>\n",
       "      <th>1029530</th>\n",
       "      <td>0.000573</td>\n",
       "      <td>0.0</td>\n",
       "      <td>212.0</td>\n",
       "      <td>0.0</td>\n",
       "      <td>0.0</td>\n",
       "      <td>2.0</td>\n",
       "      <td>0.0</td>\n",
       "    </tr>\n",
       "    <tr>\n",
       "      <th>1029531</th>\n",
       "      <td>0.000450</td>\n",
       "      <td>0.0</td>\n",
       "      <td>178.0</td>\n",
       "      <td>0.0</td>\n",
       "      <td>0.0</td>\n",
       "      <td>2.0</td>\n",
       "      <td>0.0</td>\n",
       "    </tr>\n",
       "    <tr>\n",
       "      <th>1029532</th>\n",
       "      <td>0.000495</td>\n",
       "      <td>31.0</td>\n",
       "      <td>106.0</td>\n",
       "      <td>0.0</td>\n",
       "      <td>1.0</td>\n",
       "      <td>1.0</td>\n",
       "      <td>0.0</td>\n",
       "    </tr>\n",
       "    <tr>\n",
       "      <th>1029533</th>\n",
       "      <td>0.000558</td>\n",
       "      <td>31.0</td>\n",
       "      <td>106.0</td>\n",
       "      <td>0.0</td>\n",
       "      <td>1.0</td>\n",
       "      <td>1.0</td>\n",
       "      <td>0.0</td>\n",
       "    </tr>\n",
       "    <tr>\n",
       "      <th>1029534</th>\n",
       "      <td>0.000489</td>\n",
       "      <td>0.0</td>\n",
       "      <td>212.0</td>\n",
       "      <td>0.0</td>\n",
       "      <td>0.0</td>\n",
       "      <td>2.0</td>\n",
       "      <td>0.0</td>\n",
       "    </tr>\n",
       "    <tr>\n",
       "      <th>1029535</th>\n",
       "      <td>0.000483</td>\n",
       "      <td>0.0</td>\n",
       "      <td>212.0</td>\n",
       "      <td>0.0</td>\n",
       "      <td>0.0</td>\n",
       "      <td>2.0</td>\n",
       "      <td>0.0</td>\n",
       "    </tr>\n",
       "    <tr>\n",
       "      <th>1029536</th>\n",
       "      <td>0.000461</td>\n",
       "      <td>0.0</td>\n",
       "      <td>178.0</td>\n",
       "      <td>0.0</td>\n",
       "      <td>0.0</td>\n",
       "      <td>2.0</td>\n",
       "      <td>0.0</td>\n",
       "    </tr>\n",
       "  </tbody>\n",
       "</table>\n",
       "</div>"
      ],
      "text/plain": [
       "         duration  src_bytes  dst_bytes  missed_bytes  src_pkts  dst_pkts  \\\n",
       "1029522  0.000308       41.0       89.0           0.0       1.0       1.0   \n",
       "1029523  0.000663        0.0      178.0           0.0       0.0       2.0   \n",
       "1029524  0.000419       41.0       89.0           0.0       1.0       1.0   \n",
       "1029525  0.000522        0.0      212.0           0.0       0.0       2.0   \n",
       "1029526  0.000402       31.0      106.0           0.0       1.0       1.0   \n",
       "1029527  0.000000        0.0        0.0           0.0       1.0       0.0   \n",
       "1029528  0.000000        0.0        0.0           0.0       1.0       0.0   \n",
       "1029529  0.000455        0.0      178.0           0.0       0.0       2.0   \n",
       "1029530  0.000573        0.0      212.0           0.0       0.0       2.0   \n",
       "1029531  0.000450        0.0      178.0           0.0       0.0       2.0   \n",
       "1029532  0.000495       31.0      106.0           0.0       1.0       1.0   \n",
       "1029533  0.000558       31.0      106.0           0.0       1.0       1.0   \n",
       "1029534  0.000489        0.0      212.0           0.0       0.0       2.0   \n",
       "1029535  0.000483        0.0      212.0           0.0       0.0       2.0   \n",
       "1029536  0.000461        0.0      178.0           0.0       0.0       2.0   \n",
       "\n",
       "         label  \n",
       "1029522    0.0  \n",
       "1029523    0.0  \n",
       "1029524    0.0  \n",
       "1029525    0.0  \n",
       "1029526    0.0  \n",
       "1029527    0.0  \n",
       "1029528    0.0  \n",
       "1029529    0.0  \n",
       "1029530    0.0  \n",
       "1029531    0.0  \n",
       "1029532    0.0  \n",
       "1029533    0.0  \n",
       "1029534    0.0  \n",
       "1029535    0.0  \n",
       "1029536    0.0  "
      ]
     },
     "execution_count": 32,
     "metadata": {},
     "output_type": "execute_result"
    }
   ],
   "source": [
    "df.tail(15)"
   ]
  },
  {
   "cell_type": "code",
   "execution_count": null,
   "metadata": {},
   "outputs": [],
   "source": []
  },
  {
   "cell_type": "code",
   "execution_count": null,
   "metadata": {},
   "outputs": [],
   "source": []
  }
 ],
 "metadata": {
  "kernelspec": {
   "display_name": "Python 3 (ipykernel)",
   "language": "python",
   "name": "python3"
  },
  "language_info": {
   "codemirror_mode": {
    "name": "ipython",
    "version": 3
   },
   "file_extension": ".py",
   "mimetype": "text/x-python",
   "name": "python",
   "nbconvert_exporter": "python",
   "pygments_lexer": "ipython3",
   "version": "3.11.3"
  },
  "vscode": {
   "interpreter": {
    "hash": "4e1d9a8909477db77738c33245c29c7265277ef753467dede8cf3f814cde494e"
   }
  }
 },
 "nbformat": 4,
 "nbformat_minor": 2
}
