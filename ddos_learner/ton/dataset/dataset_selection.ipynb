{
 "cells": [
  {
   "cell_type": "code",
   "execution_count": 17,
   "metadata": {},
   "outputs": [],
   "source": [
    "import pandas as pd\n",
    "import numpy as np\n",
    "from glob import glob\n"
   ]
  },
  {
   "cell_type": "code",
   "execution_count": 18,
   "metadata": {},
   "outputs": [],
   "source": [
    "\n",
    "file_lst = glob(\"raw/*.csv\")\n"
   ]
  },
  {
   "cell_type": "code",
   "execution_count": 19,
   "metadata": {},
   "outputs": [],
   "source": [
    "class RES:\n",
    "    def __init__(self, features=[]):\n",
    "        self.ft_n = len(features)\n",
    "        self.features=features\n",
    "        self.RES = np.empty((1, self.ft_n))\n",
    "        self.RES_len=0\n",
    "        self.RES_cap=1\n",
    "\n",
    "    def add(self,x):\n",
    "        if isinstance(x, pd.DataFrame):\n",
    "            x = x.to_numpy()        \n",
    "        size = x.shape[0]\n",
    "        if (size + self.RES_len > self.RES_cap):\n",
    "            while (size + self.RES_len > self.RES_cap):\n",
    "                self.RES_cap *= 2\n",
    "            \n",
    "            newRes = np.empty((self.RES_cap, self.ft_n))\n",
    "            newRes[0:self.RES_len,:] = self.RES[0:self.RES_len,:]\n",
    "            self.RES = newRes\n",
    "        self.RES[self.RES_len:self.RES_len+size, :] = x\n",
    "        self.RES_len += size\n",
    "\n",
    "    def getDf(self):\n",
    "        return pd.DataFrame(self.RES[0:self.RES_len,:], columns=self.features)\n",
    "\n",
    "    def __len__(self):\n",
    "        return self.RES_len\n",
    "        \n",
    "    def __str__(self):\n",
    "        return self.RES.__str__()\n"
   ]
  },
  {
   "cell_type": "code",
   "execution_count": 20,
   "metadata": {},
   "outputs": [
    {
     "name": "stdout",
     "output_type": "stream",
     "text": [
      "7\n",
      "0\n",
      "10000\n",
      "20000\n",
      "30000\n",
      "40000\n",
      "50000\n",
      "60000\n",
      "70000\n",
      "80000\n",
      "90000\n",
      "100000\n",
      "110000\n",
      "120000\n",
      "130000\n",
      "140000\n",
      "150000\n",
      "160000\n",
      "170000\n",
      "180000\n",
      "190000\n",
      "200000\n",
      "206396\n"
     ]
    }
   ],
   "source": [
    "\n",
    "n_normal = 0\n",
    "n_attack = 0\n",
    "req_ft=['duration','src_bytes','dst_bytes','missed_bytes','src_pkts','dst_pkts','label']\n",
    "print(len(req_ft))\n",
    "r = RES(req_ft)\n",
    "for f in file_lst:    \n",
    "    df = pd.read_csv(f, low_memory=False)  \n",
    "    df = df.loc[:, df.columns.isin(req_ft)]\n",
    "    size = df.shape[0]\n",
    "    \n",
    "    at_df = df[df['label'] == 1]\n",
    "    nr_df = df[df['label'] == 0]\n",
    "    n_nr = nr_df.shape[0]\n",
    "    n_normal += n_nr\n",
    "    n_attack += at_df.shape[0]    \n",
    "    print(len(r))    \n",
    "    \n",
    "    rng = np.random.default_rng()\n",
    "    r.add(rng.choice(df.to_numpy(), size=max(0,int(size*0.01)), replace=False))\n",
    "    del df\n",
    "    \n"
   ]
  },
  {
   "cell_type": "code",
   "execution_count": 23,
   "metadata": {},
   "outputs": [
    {
     "name": "stdout",
     "output_type": "stream",
     "text": [
      "NORMAL: 755124 ATTACK: 20884485\n"
     ]
    }
   ],
   "source": [
    "print (f\"NORMAL: {n_normal} ATTACK: {n_attack}\")"
   ]
  },
  {
   "cell_type": "code",
   "execution_count": 31,
   "metadata": {},
   "outputs": [],
   "source": [
    "df = r.getDf()\n",
    "df.to_csv(\"processed/imbalanced_dataset.csv\", index=False)"
   ]
  },
  {
   "cell_type": "code",
   "execution_count": 36,
   "metadata": {},
   "outputs": [
    {
     "name": "stdout",
     "output_type": "stream",
     "text": [
      "N: 216396, TS:162297\n"
     ]
    }
   ],
   "source": [
    "\n",
    "\n",
    "df = pd.read_csv(\"processed/imbalanced_dataset.csv\")\n",
    "N=df.shape[0]\n",
    "train_size=int((N*3)/4)\n",
    "print(f\"N: {N}, TS:{train_size}\")\n",
    "test_df = df.loc[train_size:N].sample(frac=1)\n",
    "df = df.loc[0:train_size]"
   ]
  },
  {
   "cell_type": "code",
   "execution_count": 38,
   "metadata": {},
   "outputs": [],
   "source": [
    "test_df.to_csv('processed/test_data.csv', index=False)"
   ]
  },
  {
   "cell_type": "code",
   "execution_count": 39,
   "metadata": {},
   "outputs": [
    {
     "name": "stdout",
     "output_type": "stream",
     "text": [
      "[1 1 1 1 1 1 1 1 1 1 1 1 1 1 1 1 1 1 1 1 1 1 1 1 1 1 1 1 1 1 1 1 1 1 1 1 1\n",
      " 1 1 1 1 1 1 1 1 1 1 1 1 1 1 1 1 1 1 1 1 1 1 1 1 1 1 1 1 1 1 1 1 1 1 1 1 1\n",
      " 1 1 1 1 1 1 1 1 1 1 1 1 1 1 1 1 1 1 1 1 1 1 1 1 1 1]\n"
     ]
    }
   ],
   "source": [
    "from imblearn.over_sampling import ADASYN\n",
    "Y = df['label'].to_numpy().astype(np.uint8)\n",
    "X = df.drop('label', axis=1).to_numpy()\n",
    "df[df['label'].isnull()].head()\n",
    "print(Y[0:100])\n",
    "\n"
   ]
  },
  {
   "cell_type": "code",
   "execution_count": 40,
   "metadata": {},
   "outputs": [],
   "source": [
    "from imblearn.over_sampling import ADASYN\n",
    "X_r, Y_r = ADASYN().fit_resample(X, Y)\n",
    "res=np.empty((X_r.shape[0], df.shape[1]))\n",
    "res[:, 0:-1] = X_r\n",
    "res[:, -1] = Y_r\n",
    "pd.DataFrame(res, columns = df.columns).to_csv(\"processed/balanced_dataset.csv\", index=False)"
   ]
  },
  {
   "cell_type": "code",
   "execution_count": 41,
   "metadata": {},
   "outputs": [
    {
     "data": {
      "text/plain": [
       "array([158317, 157590])"
      ]
     },
     "execution_count": 41,
     "metadata": {},
     "output_type": "execute_result"
    }
   ],
   "source": [
    "np.bincount(Y_r)"
   ]
  },
  {
   "cell_type": "code",
   "execution_count": 42,
   "metadata": {},
   "outputs": [],
   "source": [
    "np.random.shuffle(res)\n"
   ]
  },
  {
   "cell_type": "code",
   "execution_count": 43,
   "metadata": {},
   "outputs": [],
   "source": [
    "pd.DataFrame(res, columns = df.columns).to_csv(\"processed/train_data.csv\", index=False)"
   ]
  },
  {
   "cell_type": "code",
   "execution_count": 44,
   "metadata": {},
   "outputs": [
    {
     "data": {
      "text/html": [
       "<div>\n",
       "<style scoped>\n",
       "    .dataframe tbody tr th:only-of-type {\n",
       "        vertical-align: middle;\n",
       "    }\n",
       "\n",
       "    .dataframe tbody tr th {\n",
       "        vertical-align: top;\n",
       "    }\n",
       "\n",
       "    .dataframe thead th {\n",
       "        text-align: right;\n",
       "    }\n",
       "</style>\n",
       "<table border=\"1\" class=\"dataframe\">\n",
       "  <thead>\n",
       "    <tr style=\"text-align: right;\">\n",
       "      <th></th>\n",
       "      <th>0</th>\n",
       "      <th>1</th>\n",
       "      <th>2</th>\n",
       "      <th>3</th>\n",
       "      <th>4</th>\n",
       "      <th>5</th>\n",
       "      <th>6</th>\n",
       "    </tr>\n",
       "  </thead>\n",
       "  <tbody>\n",
       "    <tr>\n",
       "      <th>315892</th>\n",
       "      <td>0.00000</td>\n",
       "      <td>0.0</td>\n",
       "      <td>0.0</td>\n",
       "      <td>0.0</td>\n",
       "      <td>0.0</td>\n",
       "      <td>1.0</td>\n",
       "      <td>0.0</td>\n",
       "    </tr>\n",
       "    <tr>\n",
       "      <th>315893</th>\n",
       "      <td>0.00000</td>\n",
       "      <td>0.0</td>\n",
       "      <td>0.0</td>\n",
       "      <td>0.0</td>\n",
       "      <td>1.0</td>\n",
       "      <td>0.0</td>\n",
       "      <td>0.0</td>\n",
       "    </tr>\n",
       "    <tr>\n",
       "      <th>315894</th>\n",
       "      <td>0.00000</td>\n",
       "      <td>0.0</td>\n",
       "      <td>0.0</td>\n",
       "      <td>0.0</td>\n",
       "      <td>1.0</td>\n",
       "      <td>0.0</td>\n",
       "      <td>0.0</td>\n",
       "    </tr>\n",
       "    <tr>\n",
       "      <th>315895</th>\n",
       "      <td>0.00000</td>\n",
       "      <td>0.0</td>\n",
       "      <td>0.0</td>\n",
       "      <td>0.0</td>\n",
       "      <td>1.0</td>\n",
       "      <td>0.0</td>\n",
       "      <td>0.0</td>\n",
       "    </tr>\n",
       "    <tr>\n",
       "      <th>315896</th>\n",
       "      <td>0.00000</td>\n",
       "      <td>0.0</td>\n",
       "      <td>0.0</td>\n",
       "      <td>0.0</td>\n",
       "      <td>1.0</td>\n",
       "      <td>0.0</td>\n",
       "      <td>0.0</td>\n",
       "    </tr>\n",
       "    <tr>\n",
       "      <th>315897</th>\n",
       "      <td>63.56950</td>\n",
       "      <td>0.0</td>\n",
       "      <td>0.0</td>\n",
       "      <td>0.0</td>\n",
       "      <td>3.0</td>\n",
       "      <td>2.0</td>\n",
       "      <td>1.0</td>\n",
       "    </tr>\n",
       "    <tr>\n",
       "      <th>315898</th>\n",
       "      <td>0.00000</td>\n",
       "      <td>0.0</td>\n",
       "      <td>0.0</td>\n",
       "      <td>0.0</td>\n",
       "      <td>1.0</td>\n",
       "      <td>0.0</td>\n",
       "      <td>1.0</td>\n",
       "    </tr>\n",
       "    <tr>\n",
       "      <th>315899</th>\n",
       "      <td>0.00000</td>\n",
       "      <td>0.0</td>\n",
       "      <td>0.0</td>\n",
       "      <td>0.0</td>\n",
       "      <td>1.0</td>\n",
       "      <td>0.0</td>\n",
       "      <td>1.0</td>\n",
       "    </tr>\n",
       "    <tr>\n",
       "      <th>315900</th>\n",
       "      <td>0.00000</td>\n",
       "      <td>0.0</td>\n",
       "      <td>0.0</td>\n",
       "      <td>0.0</td>\n",
       "      <td>1.0</td>\n",
       "      <td>0.0</td>\n",
       "      <td>1.0</td>\n",
       "    </tr>\n",
       "    <tr>\n",
       "      <th>315901</th>\n",
       "      <td>0.00000</td>\n",
       "      <td>0.0</td>\n",
       "      <td>0.0</td>\n",
       "      <td>0.0</td>\n",
       "      <td>1.0</td>\n",
       "      <td>0.0</td>\n",
       "      <td>0.0</td>\n",
       "    </tr>\n",
       "    <tr>\n",
       "      <th>315902</th>\n",
       "      <td>0.00000</td>\n",
       "      <td>0.0</td>\n",
       "      <td>0.0</td>\n",
       "      <td>0.0</td>\n",
       "      <td>1.0</td>\n",
       "      <td>0.0</td>\n",
       "      <td>1.0</td>\n",
       "    </tr>\n",
       "    <tr>\n",
       "      <th>315903</th>\n",
       "      <td>0.00000</td>\n",
       "      <td>0.0</td>\n",
       "      <td>0.0</td>\n",
       "      <td>0.0</td>\n",
       "      <td>1.0</td>\n",
       "      <td>0.0</td>\n",
       "      <td>0.0</td>\n",
       "    </tr>\n",
       "    <tr>\n",
       "      <th>315904</th>\n",
       "      <td>0.00005</td>\n",
       "      <td>0.0</td>\n",
       "      <td>0.0</td>\n",
       "      <td>0.0</td>\n",
       "      <td>1.0</td>\n",
       "      <td>1.0</td>\n",
       "      <td>1.0</td>\n",
       "    </tr>\n",
       "    <tr>\n",
       "      <th>315905</th>\n",
       "      <td>0.00000</td>\n",
       "      <td>0.0</td>\n",
       "      <td>0.0</td>\n",
       "      <td>0.0</td>\n",
       "      <td>1.0</td>\n",
       "      <td>0.0</td>\n",
       "      <td>1.0</td>\n",
       "    </tr>\n",
       "    <tr>\n",
       "      <th>315906</th>\n",
       "      <td>0.00000</td>\n",
       "      <td>0.0</td>\n",
       "      <td>0.0</td>\n",
       "      <td>0.0</td>\n",
       "      <td>1.0</td>\n",
       "      <td>0.0</td>\n",
       "      <td>0.0</td>\n",
       "    </tr>\n",
       "  </tbody>\n",
       "</table>\n",
       "</div>"
      ],
      "text/plain": [
       "               0    1    2    3    4    5    6\n",
       "315892   0.00000  0.0  0.0  0.0  0.0  1.0  0.0\n",
       "315893   0.00000  0.0  0.0  0.0  1.0  0.0  0.0\n",
       "315894   0.00000  0.0  0.0  0.0  1.0  0.0  0.0\n",
       "315895   0.00000  0.0  0.0  0.0  1.0  0.0  0.0\n",
       "315896   0.00000  0.0  0.0  0.0  1.0  0.0  0.0\n",
       "315897  63.56950  0.0  0.0  0.0  3.0  2.0  1.0\n",
       "315898   0.00000  0.0  0.0  0.0  1.0  0.0  1.0\n",
       "315899   0.00000  0.0  0.0  0.0  1.0  0.0  1.0\n",
       "315900   0.00000  0.0  0.0  0.0  1.0  0.0  1.0\n",
       "315901   0.00000  0.0  0.0  0.0  1.0  0.0  0.0\n",
       "315902   0.00000  0.0  0.0  0.0  1.0  0.0  1.0\n",
       "315903   0.00000  0.0  0.0  0.0  1.0  0.0  0.0\n",
       "315904   0.00005  0.0  0.0  0.0  1.0  1.0  1.0\n",
       "315905   0.00000  0.0  0.0  0.0  1.0  0.0  1.0\n",
       "315906   0.00000  0.0  0.0  0.0  1.0  0.0  0.0"
      ]
     },
     "execution_count": 44,
     "metadata": {},
     "output_type": "execute_result"
    }
   ],
   "source": [
    "pd.DataFrame(res).tail(15)"
   ]
  },
  {
   "cell_type": "code",
   "execution_count": null,
   "metadata": {},
   "outputs": [],
   "source": []
  }
 ],
 "metadata": {
  "kernelspec": {
   "display_name": "Python 3 (ipykernel)",
   "language": "python",
   "name": "python3"
  },
  "language_info": {
   "codemirror_mode": {
    "name": "ipython",
    "version": 3
   },
   "file_extension": ".py",
   "mimetype": "text/x-python",
   "name": "python",
   "nbconvert_exporter": "python",
   "pygments_lexer": "ipython3",
   "version": "3.10.10"
  },
  "vscode": {
   "interpreter": {
    "hash": "4e1d9a8909477db77738c33245c29c7265277ef753467dede8cf3f814cde494e"
   }
  }
 },
 "nbformat": 4,
 "nbformat_minor": 2
}
